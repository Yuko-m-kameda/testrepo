{
 "cells": [
  {
   "cell_type": "markdown",
   "id": "f033cbf2-ebc5-480f-89c8-e977462dc0f3",
   "metadata": {},
   "source": [
    "# Data Science Tools and Ecosystem"
   ]
  },
  {
   "cell_type": "markdown",
   "id": "59b39ea5-804a-4ea6-a5bd-ac56182e4b10",
   "metadata": {},
   "source": [
    "In this notebook, Data Science Tools and Ecosystem are summarized."
   ]
  },
  {
   "cell_type": "markdown",
   "id": "c729ff1b-b5e1-45e8-8791-2fece0f00d27",
   "metadata": {},
   "source": [
    "Objectives:\n",
    "* List popular languages for Data Science\n",
    "* List common libraries for Data Science\n",
    "* List development environment open source tools for data science"
   ]
  },
  {
   "cell_type": "markdown",
   "id": "ea64d404-271c-4123-bbcc-890de66fbb27",
   "metadata": {},
   "source": [
    "Some of the popular languages that Data Scientists use are:\n",
    "1. Python\n",
    "1. R\n",
    "1. SQL"
   ]
  },
  {
   "cell_type": "markdown",
   "id": "2a2c0311-40dc-424e-b3be-b1d8e9532d2e",
   "metadata": {},
   "source": [
    "Some of the commonly used libraries used by Data Scientists include:\n",
    "1. Pandas\n",
    "1. NumPy\n",
    "1. Matplotlib"
   ]
  },
  {
   "cell_type": "markdown",
   "id": "4dde420d-8263-44c2-8d82-f4a58387d3f3",
   "metadata": {},
   "source": [
    "| Data Science Tools |\n",
    "| --- |\n",
    "| Jupyter |\n",
    "| RStudio |\n",
    "| Apache Zeppelin |"
   ]
  },
  {
   "cell_type": "markdown",
   "id": "36955244-45ca-46b8-957d-de5dd6bbbf94",
   "metadata": {},
   "source": [
    "### Below are a few examples of evaluating arithmetic expressions in Python"
   ]
  },
  {
   "cell_type": "code",
   "execution_count": 1,
   "id": "93c9d570-e7e0-49db-a095-0d387867d9d6",
   "metadata": {},
   "outputs": [
    {
     "data": {
      "text/plain": [
       "17"
      ]
     },
     "execution_count": 1,
     "metadata": {},
     "output_type": "execute_result"
    }
   ],
   "source": [
    "# This a simple arithmetic expression to mutiply then add integers\n",
    "(3*4)+5"
   ]
  },
  {
   "cell_type": "code",
   "execution_count": 3,
   "id": "f5361e42-9522-4f67-b569-f4223e4d915e",
   "metadata": {},
   "outputs": [
    {
     "name": "stdout",
     "output_type": "stream",
     "text": [
      "3:20\n"
     ]
    }
   ],
   "source": [
    "# This will convert 200 minutes to hours by dividing by 60\n",
    "total_minutes = 200\n",
    "\n",
    "# Get hours with floor division\n",
    "hours = total_minutes // 60\n",
    "\n",
    "# Get additional minutes with modulus\n",
    "minutes = total_minutes % 60\n",
    "\n",
    "# Create time as a string\n",
    "time = \"{}:{}\".format(hours, minutes)\n",
    "\n",
    "print(time)"
   ]
  },
  {
   "cell_type": "markdown",
   "id": "fcbc11b7-f1d4-4578-8dc5-76c2cfb17972",
   "metadata": {},
   "source": [
    "## Author\n",
    "Yuko Kameda"
   ]
  }
 ],
 "metadata": {
  "kernelspec": {
   "display_name": "Python",
   "language": "python",
   "name": "conda-env-python-py"
  },
  "language_info": {
   "codemirror_mode": {
    "name": "ipython",
    "version": 3
   },
   "file_extension": ".py",
   "mimetype": "text/x-python",
   "name": "python",
   "nbconvert_exporter": "python",
   "pygments_lexer": "ipython3",
   "version": "3.7.12"
  }
 },
 "nbformat": 4,
 "nbformat_minor": 5
}
